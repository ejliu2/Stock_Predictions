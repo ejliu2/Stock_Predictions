{
 "metadata": {
  "language_info": {
   "codemirror_mode": {
    "name": "ipython",
    "version": 3
   },
   "file_extension": ".py",
   "mimetype": "text/x-python",
   "name": "python",
   "nbconvert_exporter": "python",
   "pygments_lexer": "ipython3",
   "version": "3.8.6-final"
  },
  "orig_nbformat": 2,
  "kernelspec": {
   "name": "python3",
   "display_name": "Python 3.8.6 64-bit",
   "metadata": {
    "interpreter": {
     "hash": "072e2a18da90eb3e65f7603e22cf8b6cba53229fe970493243dad53ec3528c84"
    }
   }
  }
 },
 "nbformat": 4,
 "nbformat_minor": 2,
 "cells": [
  {
   "cell_type": "code",
   "execution_count": 1,
   "metadata": {},
   "outputs": [],
   "source": [
    "import numpy as np\n",
    "import pandas as pd\n",
    "import matplotlib.pyplot as plt\n",
    "import sys\n",
    "import os"
   ]
  },
  {
   "cell_type": "code",
   "execution_count": 29,
   "metadata": {},
   "outputs": [],
   "source": [
    "data_2019_base = pd.read_csv('test/Example_DATASET.csv')\n",
    "data_2019_var = pd.read_csv('test/Example_2019_price_var.csv')\n",
    "data_2019 = data_2019_base.join(data_2019_var.set_index(\"Ticker\"), on=\"Ticker\")\n",
    "data_2019.to_csv('test/2019_Financial_Data.csv')"
   ]
  }
 ]
}